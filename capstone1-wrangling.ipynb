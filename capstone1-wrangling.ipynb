{
 "cells": [
  {
   "cell_type": "markdown",
   "metadata": {},
   "source": [
    "# CAPSTONE PROJECT #1: Deep Demographic Insights from Amazon Customer Data\n",
    "\n",
    "**Summary:** With this project, I plan to explore the demographics of our current customer base in order to determine better who to target with our marketing and which messages may resonate more soundly with them. To this end, I will use the customizable order reports that Amazon provides to its sellers through its Seller Central portal as a dataset. These reports include data such as purchase items & quantity, name, address, city, state, and zip code. I will also use datasets from data.gov for the demographic data with which I will perform my analyses. Data will be visualized here in ways that make the insights most clear."
   ]
  },
  {
   "cell_type": "markdown",
   "metadata": {},
   "source": [
    "## Part 1: Data Wrangling / Cleaning\n",
    "\n",
    "Link to [Part 2 - Exploratory Data Analysis (EDA)](capstone1-eda.ipynb)\n",
    "<br>\n",
    "Link to [Part 3 - Inferential Statistics](capstone1-is.ipynb)\n",
    "<br>\n",
    "Link to [Part 4 - Machine Learning](capstone1-ml.ipynb)\n",
    "<br>"
   ]
  },
  {
   "cell_type": "code",
   "execution_count": 47,
   "metadata": {},
   "outputs": [],
   "source": [
    "#Imports\n",
    "import pandas as pd\n",
    "import glob\n",
    "import matplotlib.pyplot as plt\n",
    "from matplotlib.lines import Line2D\n",
    "from matplotlib import ticker\n",
    "import calendar"
   ]
  },
  {
   "cell_type": "code",
   "execution_count": 48,
   "metadata": {},
   "outputs": [],
   "source": [
    "#Read in data.gov dataset (only selecting columns of interest)\n",
    "demo_data_RAW = pd.read_csv('16zpallagi.csv', usecols=['zipcode', 'agi_stub', 'N1', 'NUMDEP', 'ELDERLY', 'A00100',\n",
    "                                                      'mars1', 'MARS2', 'MARS4'])\n",
    "#  ZIPCODE\t5-digit Zip code\n",
    "#  AGI_STUB\tSize of adjusted gross income\n",
    "    #1 = $1 under $25,000\n",
    "    #2 = $25,000 under $50,000\n",
    "    #3 = $50,000 under $75,000\n",
    "    #4 = $75,000 under $100,000\n",
    "    #5 = $100,000 under $200,000\n",
    "    #6 = $200,000 or more\n",
    "#  N1\tNumber of returns\n",
    "#  NUMDEP\tNumber of dependents\n",
    "#  ELDERLY\tNumber of elderly returns [4]\n",
    "#  A00100\tAdjust gross income (AGI) [2] (in Thousands)\n",
    "#  MARS1\tNumber of single returns\t  Filing status is single\n",
    "#  MARS2\tNumber of joint returns\t  Filing status is married filing jointly\n",
    "#  MARS4\tNumber of head of household returns\t  Filing status is head of household\n"
   ]
  },
  {
   "cell_type": "code",
   "execution_count": 49,
   "metadata": {},
   "outputs": [],
   "source": [
    "#Create new copy for cleaning/modification\n",
    "demo_data = demo_data_RAW.copy()"
   ]
  },
  {
   "cell_type": "code",
   "execution_count": 50,
   "metadata": {},
   "outputs": [
    {
     "name": "stdout",
     "output_type": "stream",
     "text": [
      "   zipcode  agi_stub      N1   mars1   MARS2   MARS4  NUMDEP  ELDERLY  \\\n",
      "0        0         1  815440  477700  105350  221200  491310   150920   \n",
      "1        0         2  495830  211930  142340  128890  360480   109680   \n",
      "2        0         3  263390   83420  137870   36340  182880    75570   \n",
      "3        0         4  167190   29420  124060   10610  130160    51540   \n",
      "4        0         5  217440   20240  188080    4880  195990    68080   \n",
      "5        0         6   57240    2970   51130     400   56220    19330   \n",
      "6    35004         1    1510     990     220     280     660      340   \n",
      "7    35004         2    1410     660     360     340     900      270   \n",
      "8    35004         3     950     330     470     140     660      200   \n",
      "9    35004         4     650     120     470      50     560      130   \n",
      "\n",
      "     A00100  \n",
      "0  10610343  \n",
      "1  17839904  \n",
      "2  16193076  \n",
      "3  14513312  \n",
      "4  29375736  \n",
      "5  25824639  \n",
      "6     19351  \n",
      "7     51976  \n",
      "8     58988  \n",
      "9     56302  \n"
     ]
    }
   ],
   "source": [
    "print(demo_data_RAW.head(10)) #Inspect head"
   ]
  },
  {
   "cell_type": "code",
   "execution_count": 51,
   "metadata": {},
   "outputs": [
    {
     "name": "stdout",
     "output_type": "stream",
     "text": [
      "        zipcode  agi_stub    N1  mars1  MARS2  MARS4  NUMDEP  ELDERLY  A00100\n",
      "179786    83414         3    40     30     20      0      40        0    2834\n",
      "179787    83414         4     0      0      0      0       0        0       0\n",
      "179788    83414         5    40      0     30      0      50       30    5470\n",
      "179789    83414         6    30      0     30      0       0        0   32793\n",
      "179790    99999         1  2730   1980    410    340     950      730   33206\n",
      "179791    99999         2  2020   1100    620    260    1010      620   74226\n",
      "179792    99999         3  1330    570    630    130     730      460   82628\n",
      "179793    99999         4   910    280    580     60     550      350   78494\n",
      "179794    99999         5  1270    240   1010     40     860      510  170427\n",
      "179795    99999         6   390     90    330      0     210      240  250829\n"
     ]
    }
   ],
   "source": [
    "print(demo_data_RAW.tail(10)) #Inspect tail"
   ]
  },
  {
   "cell_type": "code",
   "execution_count": 52,
   "metadata": {
    "scrolled": true
   },
   "outputs": [
    {
     "name": "stdout",
     "output_type": "stream",
     "text": [
      "    zipcode  agi_stub    N1  mars1  MARS2  MARS4  NUMDEP  ELDERLY  A00100\n",
      "6     35004         1  1510    990    220    280     660      340   19351\n",
      "7     35004         2  1410    660    360    340     900      270   51976\n",
      "8     35004         3   950    330    470    140     660      200   58988\n",
      "9     35004         4   650    120    470     50     560      130   56302\n",
      "10    35004         5   630     50    560     20     610      130   81057\n",
      "        zipcode  agi_stub  N1  mars1  MARS2  MARS4  NUMDEP  ELDERLY  A00100\n",
      "179785    83414         2  40      0     30      0      50       50    1532\n",
      "179786    83414         3  40     30     20      0      40        0    2834\n",
      "179787    83414         4   0      0      0      0       0        0       0\n",
      "179788    83414         5  40      0     30      0      50       30    5470\n",
      "179789    83414         6  30      0     30      0       0        0   32793\n"
     ]
    }
   ],
   "source": [
    "#Clean demo data (use copy of dataframe, demo_data)\n",
    "#1. Remove summary rows (zipcode = 0, totaled AGI for brackets 1-6)\n",
    "#2. \"ZIP codes with less than 100 returns and those identified as a single building or \n",
    "    #nonresidential ZIP code were categorized as “other” (99999).\" -> Remove zipcode = 99999\n",
    "    \n",
    "demo_data = demo_data[(demo_data['zipcode'] != 0) & (demo_data['zipcode'] != 99999)]\n",
    "\n",
    "#Ensure no NULL or NaN values\n",
    "assert demo_data.notna().all().all()\n",
    "assert demo_data.notnull().all().all()\n",
    "\n",
    "print(demo_data.head())\n",
    "print(demo_data.tail())"
   ]
  },
  {
   "cell_type": "code",
   "execution_count": 53,
   "metadata": {},
   "outputs": [
    {
     "name": "stdout",
     "output_type": "stream",
     "text": [
      "      zipcode  agi_stub    N1  mars1  MARS2  MARS4  NUMDEP  ELDERLY  A00100\n",
      "22290    6001         1  2170   1930    150     70     160      490   20138\n",
      "22291    6001         2   980    660    190    100     280      340   36335\n",
      "22292    6001         3   990    570    310     80     360      380   61690\n",
      "22293    6001         4   840    350    400     70     460      360   73155\n",
      "22294    6001         5  2170    380   1640    110    1920      820  311741\n",
      "(13942, 9)\n"
     ]
    }
   ],
   "source": [
    "#Inspection reveals that some postal codes only contain 4 digits... Investigate extent of missing data\n",
    "demo_data['zipcode'] = demo_data['zipcode'].astype(str)\n",
    "demo_data_badzip = demo_data[demo_data['zipcode'].str.len() < 5]\n",
    "print(demo_data_badzip.head())\n",
    "print(demo_data_badzip.shape) #13,942 entries with malformed ZIP Codes!"
   ]
  },
  {
   "cell_type": "code",
   "execution_count": 54,
   "metadata": {},
   "outputs": [],
   "source": [
    "#Research confirms that for the cities and states with malformed zip codes, the zip codes begin with 0.\n",
    "#Excel truncates the leading zero. (#e.g. 06001 becomes 6001 in Excel) \n",
    "def format_postal_codes(row):\n",
    "    zipcode = row['zipcode']\n",
    "    return zipcode[:5].zfill(5) #Only keep 1st 5 digits and add leading zeroes to 4-digit codes"
   ]
  },
  {
   "cell_type": "code",
   "execution_count": 55,
   "metadata": {},
   "outputs": [
    {
     "name": "stdout",
     "output_type": "stream",
     "text": [
      "(0, 9)\n"
     ]
    }
   ],
   "source": [
    "#Format ZIP Codes and confirm all are fixed\n",
    "demo_data['zipcode'] = demo_data.apply(format_postal_codes, axis=1)\n",
    "\n",
    "demo_data_badzip = demo_data[demo_data['zipcode'].str.len() < 5]\n",
    "print(demo_data_badzip.shape)"
   ]
  },
  {
   "cell_type": "code",
   "execution_count": 56,
   "metadata": {},
   "outputs": [
    {
     "name": "stdout",
     "output_type": "stream",
     "text": [
      "       amazon-order-id       purchase-date order-status  item-price  \\\n",
      "0  113-9235397-9394658 2017-04-27 16:14:10      Shipped       74.99   \n",
      "1  112-1718234-0365053 2017-04-25 18:03:59      Shipped       74.99   \n",
      "2  111-1795457-0212247 2017-04-24 17:07:36      Shipped       74.99   \n",
      "3  114-9388024-7222668 2017-04-24 03:07:35      Shipped       59.99   \n",
      "4  112-7199274-2267420 2017-04-24 00:19:53      Shipped       59.99   \n",
      "\n",
      "        ship-city ship-state ship-postal-code  \n",
      "0          BOSTON         MA       02118-1089  \n",
      "1  EAST WENATCHEE         WA       98802-2603  \n",
      "2    Saint Joseph         MO            64506  \n",
      "3       LOS ALTOS         CA       94022-1209  \n",
      "4          DENVER         CO       80231-4510  \n"
     ]
    }
   ],
   "source": [
    "#Read in Amazon order data files (only selecting columns of interest)\n",
    "\n",
    "amzn_files = glob.glob('amzn_*.csv')\n",
    "frames = []\n",
    "\n",
    "for amzn_file in amzn_files:\n",
    "    df = pd.read_csv(amzn_file, \n",
    "                     usecols=['amazon-order-id', 'ship-city', 'ship-state', 'ship-postal-code', \n",
    "                                         'purchase-date', 'order-status', 'item-price'], \n",
    "                     parse_dates=['purchase-date'])\n",
    "    frames.append(df)\n",
    "    \n",
    "amzn_data_RAW = pd.concat(frames)\n",
    "\n",
    "print(amzn_data_RAW.head())"
   ]
  },
  {
   "cell_type": "code",
   "execution_count": 57,
   "metadata": {},
   "outputs": [],
   "source": [
    "#Create new copy for cleaning/modification\n",
    "amzn_data = amzn_data_RAW.copy()"
   ]
  },
  {
   "cell_type": "code",
   "execution_count": 58,
   "metadata": {},
   "outputs": [
    {
     "name": "stdout",
     "output_type": "stream",
     "text": [
      "(0, 7)\n",
      "       amazon-order-id       purchase-date order-status  item-price  \\\n",
      "0  113-9235397-9394658 2017-04-27 16:14:10      Shipped       74.99   \n",
      "1  112-1718234-0365053 2017-04-25 18:03:59      Shipped       74.99   \n",
      "2  111-1795457-0212247 2017-04-24 17:07:36      Shipped       74.99   \n",
      "3  114-9388024-7222668 2017-04-24 03:07:35      Shipped       59.99   \n",
      "4  112-7199274-2267420 2017-04-24 00:19:53      Shipped       59.99   \n",
      "\n",
      "        ship-city ship-state zipcode  \n",
      "0          BOSTON         MA   02118  \n",
      "1  EAST WENATCHEE         WA   98802  \n",
      "2    Saint Joseph         MO   64506  \n",
      "3       LOS ALTOS         CA   94022  \n",
      "4          DENVER         CO   80231  \n"
     ]
    }
   ],
   "source": [
    "#Clean amzn data (use copy of dataframe, amzn_data)\n",
    "#1. Remove order status = cancelled (Cancelled purchases)\n",
    "#2. Remove item-price == NaN (Internal orders)\n",
    "#3. Re-format postal codes to 5-digit\n",
    "\n",
    "amzn_data = amzn_data[(amzn_data['order-status'] != 'Cancelled') & (amzn_data['item-price'].isna() == False)]\n",
    "amzn_data = amzn_data.rename(columns={'ship-postal-code' : 'zipcode'})\n",
    "\n",
    "amzn_data['zipcode'] = amzn_data.apply(format_postal_codes, axis=1)\n",
    "\n",
    "amzn_data_badzip = amzn_data[amzn_data['zipcode'].str.len() < 5]\n",
    "print(amzn_data_badzip.shape) #0 entries with malformed zip codes\n",
    "\n",
    "print(amzn_data.head())"
   ]
  },
  {
   "cell_type": "code",
   "execution_count": 59,
   "metadata": {},
   "outputs": [
    {
     "name": "stdout",
     "output_type": "stream",
     "text": [
      "       amazon-order-id       purchase-date zipcode\n",
      "0  113-9235397-9394658 2017-04-27 16:14:10   02118\n",
      "1  112-1718234-0365053 2017-04-25 18:03:59   98802\n",
      "2  111-1795457-0212247 2017-04-24 17:07:36   64506\n",
      "3  114-9388024-7222668 2017-04-24 03:07:35   94022\n",
      "4  112-7199274-2267420 2017-04-24 00:19:53   80231\n"
     ]
    }
   ],
   "source": [
    "#Cleaning complete - strip unnecessary columns\n",
    "\n",
    "amzn_data = amzn_data[['amazon-order-id', 'purchase-date', 'zipcode']]\n",
    "print(amzn_data.head())"
   ]
  },
  {
   "cell_type": "code",
   "execution_count": null,
   "metadata": {},
   "outputs": [],
   "source": []
  }
 ],
 "metadata": {
  "kernelspec": {
   "display_name": "Python 2",
   "language": "python",
   "name": "python2"
  },
  "language_info": {
   "codemirror_mode": {
    "name": "ipython",
    "version": 2
   },
   "file_extension": ".py",
   "mimetype": "text/x-python",
   "name": "python",
   "nbconvert_exporter": "python",
   "pygments_lexer": "ipython2",
   "version": "2.7.15"
  }
 },
 "nbformat": 4,
 "nbformat_minor": 2
}
