{
 "cells": [
  {
   "cell_type": "markdown",
   "metadata": {},
   "source": [
    "## Part 3: Statistical Inference\n",
    "\n",
    "Link to [Part 1 - Data Wrangling](capstone1-wrangling.ipynb)\n",
    "<br>\n",
    "Link to [Part 2 - Exploratory Data Analysis (EDA)](capstone1-eda.ipynb)\n",
    "<br>\n",
    "Link to [Part 4 - Machine Learning](capstone1-ml.ipynb)\n",
    "<br>"
   ]
  },
  {
   "cell_type": "markdown",
   "metadata": {},
   "source": [
    "Q: I have chosen to analyze the top 10 ZIP codes by volume... How representative are these ZIP codes of all the other ZIP codes from which we received orders?\n",
    "\n",
    "+ Use Chi-Squared Goodness of Fit test!\n",
    "+ Metrics: AGI, ELDERLY, # dependents\n",
    "+ Null Hypothesis: Sample containing Top 10 ZIP Codes has same distribution in above metrics as total population.\n",
    "+ Alternative Hypothesis: Sample containing Top 10 ZIP Codes has significantly different distribution than total population.\n",
    "+ Significance level (alpha): 0.05"
   ]
  },
  {
   "cell_type": "code",
   "execution_count": 5,
   "metadata": {},
   "outputs": [],
   "source": [
    "%%capture\n",
    "%run capstone1-eda.ipynb #Load Part 2"
   ]
  },
  {
   "cell_type": "code",
   "execution_count": 6,
   "metadata": {},
   "outputs": [
    {
     "name": "stdout",
     "output_type": "stream",
     "text": [
      "835.215179183\n"
     ]
    }
   ],
   "source": [
    "#AGI\n",
    "chi_AGI = 0\n",
    "avg_AGI = 69.717\n",
    "for row in joint_grouped.head(10).itertuples():\n",
    "    zip_chi = (((row[9] - avg_AGI) ** 2) / avg_AGI)\n",
    "    chi_AGI += zip_chi\n",
    "print chi_AGI #Chi^2 = 835.22 => p ~ 0 => NULL HYPOTHESIS REJECTED!"
   ]
  },
  {
   "cell_type": "code",
   "execution_count": 7,
   "metadata": {},
   "outputs": [
    {
     "name": "stdout",
     "output_type": "stream",
     "text": [
      "34.1393020958\n"
     ]
    }
   ],
   "source": [
    "#Elderly\n",
    "chi_elderly = 0\n",
    "avg_eld = 23.5\n",
    "for row in joint_grouped.head(10).itertuples():\n",
    "    eld_chi = (((row[13] - avg_eld) ** 2) / avg_eld)\n",
    "    chi_elderly += eld_chi\n",
    "print chi_elderly #Chi^2 = 34.14 => p = 0.00008 => NULL HYPOTHESIS REJECTED!"
   ]
  },
  {
   "cell_type": "code",
   "execution_count": 8,
   "metadata": {},
   "outputs": [
    {
     "name": "stdout",
     "output_type": "stream",
     "text": [
      "0.548796300425\n"
     ]
    }
   ],
   "source": [
    "#Dependents\n",
    "chi_dep = 0\n",
    "avg_dep = 1.25\n",
    "for row in joint_grouped.head(10).itertuples():\n",
    "    dep_chi = (((row[14] - avg_dep) ** 2) / avg_dep)\n",
    "    chi_dep += dep_chi\n",
    "print chi_dep #Chi^2 = 0.55 => p = 0.99995 => NULL HYPOTHESIS ACCEPTED!"
   ]
  },
  {
   "cell_type": "markdown",
   "metadata": {},
   "source": [
    "## Conclusion\n",
    "\n",
    "Comparing the top 10 ZIP codes by volume with the rest of the order population revealed that the only metric along which the top 10 distribution was a strong representation (by the Chi-squared goodness of fit test) was number of dependents. The top 10 sample was significantly different in both its average AGI and % elderly population.\n",
    "\n",
    "My recommendations in light of this analysis are mixed: On one hand, the fact that our highest volume ZIP codes differed so greatly in average AGI and % elderly suggests that those two metrics are prime candidates for targeted marketing efforts. On the other hand, the fact that our total order sample is still relatively small, and the top 10 ZIP codes, as yet, comprise only a small overall percentage of our total sales, it may be unwise to focus too narrowly on those metrics at the expense of others. Both more data and more analysis are required before firmer conclusions can be drawn."
   ]
  },
  {
   "cell_type": "code",
   "execution_count": null,
   "metadata": {},
   "outputs": [],
   "source": []
  }
 ],
 "metadata": {
  "kernelspec": {
   "display_name": "Python 2",
   "language": "python",
   "name": "python2"
  },
  "language_info": {
   "codemirror_mode": {
    "name": "ipython",
    "version": 2
   },
   "file_extension": ".py",
   "mimetype": "text/x-python",
   "name": "python",
   "nbconvert_exporter": "python",
   "pygments_lexer": "ipython2",
   "version": "2.7.15"
  }
 },
 "nbformat": 4,
 "nbformat_minor": 2
}
